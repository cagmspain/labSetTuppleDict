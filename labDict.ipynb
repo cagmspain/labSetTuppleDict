{
 "cells": [
  {
   "cell_type": "markdown",
   "metadata": {},
   "source": [
    "Desafío 1: Tuplas\n",
    "¿Sabías que puedes crear tuplas con solo un elemento?\n",
    "En la celda de abajo, define una variable tup con un único elemento \"I\"."
   ]
  },
  {
   "cell_type": "code",
   "execution_count": 3,
   "metadata": {},
   "outputs": [],
   "source": [
    "tup = tuple(\"I\")\n"
   ]
  },
  {
   "cell_type": "markdown",
   "metadata": {},
   "source": [
    "Imprime el tipo de tup.\n",
    "Asegúrate de que su tipo sea correcto (es decir, tuple en lugar de str)."
   ]
  },
  {
   "cell_type": "code",
   "execution_count": null,
   "metadata": {},
   "outputs": [],
   "source": [
    "type(tup)"
   ]
  },
  {
   "cell_type": "markdown",
   "metadata": {},
   "source": [
    "Ahora intenta agregar los siguientes elementos a tup.\n",
    "¿Puedes hacerlo? Explica.\n",
    "\n",
    "\"r\", \"o\", \"n\", \"h\", \"a\", \"c\", \"k',"
   ]
  },
  {
   "cell_type": "code",
   "execution_count": null,
   "metadata": {},
   "outputs": [],
   "source": [
    "#tup = tup + (\"r\", \"o\", \"n\", \"h\", \"a\", \"c\", \"k',)\n",
    "#no es posible agregarlos a la tupla formato no adecuasdo ni uniforme \n"
   ]
  },
  {
   "cell_type": "markdown",
   "metadata": {},
   "source": [
    "¿Qué tal si reasignas un nuevo valor a una tupla existente?\n",
    "Reasigna los siguientes elementos a tup. ¿Puedes hacerlo? Explica.\n",
    "\n",
    "\"I\", \"r\", \"o\", \"n\", \"h\", \"a\", \"c\", \"k\""
   ]
  },
  {
   "cell_type": "code",
   "execution_count": 4,
   "metadata": {},
   "outputs": [
    {
     "name": "stdout",
     "output_type": "stream",
     "text": [
      "('I', 'I', 'r', 'o', 'n', 'h', 'a', 'c', 'k')\n"
     ]
    }
   ],
   "source": [
    "tup = tup + (\"I\", \"r\", \"o\", \"n\", \"h\", \"a\", \"c\", \"k\")\n",
    "print(tup)\n",
    "# si es posible formato correcto "
   ]
  },
  {
   "cell_type": "markdown",
   "metadata": {},
   "source": [
    "Divide tup en tup1 y tup2 con 4 elementos en cada una.\n",
    "tup1 debe ser (\"I\", \"r\", \"o\", \"n\") y tup2 debe ser (\"h\", \"a\", \"c\", \"k\").\n",
    "\n",
    "Sugerencia: usa números de índice positivos para la asignación de tup1 y números de índice negativos para la asignación de tup2. Los números de índice positivos cuentan desde el principio, mientras que los números de índice negativos cuentan desde el final de la secuencia.\n",
    "\n",
    "También imprime tup1 y tup2."
   ]
  },
  {
   "cell_type": "code",
   "execution_count": 7,
   "metadata": {},
   "outputs": [
    {
     "name": "stdout",
     "output_type": "stream",
     "text": [
      "('I', 'I', 'r', 'o') ('h', 'a', 'c', 'k')\n"
     ]
    }
   ],
   "source": [
    "tup1= tup[:4]\n",
    "tup2=tup[-4:]\n",
    "\n",
    "print(tup1 , tup2)"
   ]
  },
  {
   "cell_type": "markdown",
   "metadata": {},
   "source": [
    "Suma tup1 y tup2 en tup3 usando el operador +.\n",
    "Luego imprime tup3 y verifica si tup3 es igual a tup."
   ]
  },
  {
   "cell_type": "code",
   "execution_count": 8,
   "metadata": {},
   "outputs": [
    {
     "name": "stdout",
     "output_type": "stream",
     "text": [
      "('I', 'I', 'r', 'o', 'h', 'a', 'c', 'k') <class 'tuple'>\n"
     ]
    }
   ],
   "source": [
    "tup3 = tup1+tup2\n",
    "print(tup3, type(tup3))"
   ]
  },
  {
   "cell_type": "markdown",
   "metadata": {},
   "source": [
    "Cuenta el número de elementos en tup1 y tup2. Luego suma los dos conteos y verifica si la suma es igual al número de elementos en tup3."
   ]
  },
  {
   "cell_type": "code",
   "execution_count": 11,
   "metadata": {},
   "outputs": [
    {
     "name": "stdout",
     "output_type": "stream",
     "text": [
      "el njumero de elementos en las tuplas es tup1: 4 , tup2: 4 y la longitud de tup 3 debe se igual a : tup2+tup3= 8\n"
     ]
    }
   ],
   "source": [
    "print(f\"el njumero de elementos en las tuplas es tup1: {len(tup1)} , tup2: {len(tup2)} y la longitud de tup 3 debe se igual a : tup2+tup3= {len(tup1)+len(tup2)}\")"
   ]
  },
  {
   "cell_type": "markdown",
   "metadata": {},
   "source": [
    "¿Cuál es el número de índice de \"h\" en tup3?"
   ]
  },
  {
   "cell_type": "code",
   "execution_count": 23,
   "metadata": {},
   "outputs": [
    {
     "name": "stdout",
     "output_type": "stream",
     "text": [
      "('I', 'I', 'r', 'o', 'h', 'a', 'c', 'k')\n",
      "el indice de h es : 4\n"
     ]
    }
   ],
   "source": [
    "print(tup3)\n",
    "for i in range(len(tup3)):\n",
    "    x=tup3[i]\n",
    "    if x==\"h\":\n",
    "        print(f\"el indice de h es : {i}\")\n",
    "        break\n",
    "    else: pass\n"
   ]
  },
  {
   "cell_type": "markdown",
   "metadata": {},
   "source": [
    "Ahora, usa un bucle FOR para verificar si cada letra en la siguiente lista está presente en tup3:\n",
    "letters = [\"a\", \"b\", \"c\", \"d\", \"e\"]\n",
    "Para cada letra que verifiques, imprime True si está presente en tup3, de lo contrario imprime False.\n",
    "\n",
    "Sugerencia: solo necesitas hacer un bucle con letters. No necesitas hacer un bucle con tup3 porque hay un operador de Python in que puedes usar. Consulta la referencia."
   ]
  },
  {
   "cell_type": "code",
   "execution_count": 26,
   "metadata": {},
   "outputs": [
    {
     "name": "stdout",
     "output_type": "stream",
     "text": [
      "la letra I NO está en la lista : False\n",
      "la letra I NO está en la lista : False\n",
      "la letra r NO está en la lista : False\n",
      "la letra o NO está en la lista : False\n",
      "la letra h NO está en la lista : False\n",
      "la letra a está en la lista : True\n",
      "la letra c está en la lista : True\n",
      "la letra k NO está en la lista : False\n"
     ]
    }
   ],
   "source": [
    "letters = [\"a\", \"b\", \"c\", \"d\", \"e\"]\n",
    "for letter in tup3:\n",
    "    if letter.lower() in letters:\n",
    "        print(f\"la letra {letter} está en la lista : {True}\")\n",
    "    else : print(f\"la letra {letter} NO está en la lista : {False}\")"
   ]
  },
  {
   "cell_type": "markdown",
   "metadata": {},
   "source": [
    "¿Cuántas veces aparece cada letra de letters en tup3?\n",
    "Imprime el número de ocurrencias de cada letra."
   ]
  },
  {
   "cell_type": "code",
   "execution_count": 47,
   "metadata": {},
   "outputs": [
    {
     "name": "stdout",
     "output_type": "stream",
     "text": [
      "la letra I NO está en la tupla3 : False\n",
      "la letra I NO está en la tupla3 : False\n",
      "la letra r NO está en la tupla3 : False\n",
      "la letra o NO está en la tupla3 : False\n",
      "la letra h NO está en la tupla3 : False\n",
      "la letra k NO está en la tupla3 : False\n",
      "a: 1 \n",
      " b: 0 \n",
      " c: 1 \n",
      " d: 0 \n",
      " e: 0 \n",
      " ('I', 'I', 'r', 'o', 'h', 'a', 'c', 'k')\n"
     ]
    }
   ],
   "source": [
    "a,b,c,d,e=0,0,0,0,0\n",
    "for letter in tup3:\n",
    "    \n",
    "    if letter.lower()== \"a\" :\n",
    "            a+=1\n",
    "    elif letter.lower()== \"b\":\n",
    "            b+=1\n",
    "    elif letter.lower()== \"c\":\n",
    "            c+=1\n",
    "    elif letter.lower()== \"d\":\n",
    "            d+=1\n",
    "    elif letter.lower()== \"e\":\n",
    "            e+=1\n",
    "    else :print(f\"la letra {letter} NO está en la tupla3 : {False}\")\n",
    "    \n",
    "print(f\"a: {a} \\n b: {b} \\n c: {c} \\n d: {d} \\n e: {e} \\n {tup3}\")"
   ]
  },
  {
   "cell_type": "markdown",
   "metadata": {},
   "source": [
    "Desafío 2: Conjuntos\n",
    "Hay mucho que aprender sobre los Conjuntos en Python y la información presentada en la lección es limitada debido a su longitud. Para aprender a fondo sobre los Conjuntos en Python, te recomendamos encarecidamente que revises el tutorial de W3Schools sobre Ejemplos y Métodos de Conjuntos en Python antes de trabajar en este laboratorio. Algunas preguntas difíciles de este laboratorio tienen sus soluciones en el tutorial de W3Schools.\n",
    "\n",
    "Primero, importa la biblioteca random de Python."
   ]
  },
  {
   "cell_type": "code",
   "execution_count": 49,
   "metadata": {},
   "outputs": [],
   "source": [
    "import random as rd \n"
   ]
  },
  {
   "cell_type": "markdown",
   "metadata": {},
   "source": [
    "En la celda de abajo, crea una lista llamada sample_list_1 con 80 valores aleatorios.\n",
    "Requisitos:\n",
    "\n",
    "Cada valor es un entero entre 0 y 100.\n",
    "Cada valor en la lista es único.\n",
    "Imprime sample_list_1 para revisar sus valores.\n",
    "\n",
    "Sugerencia: usa random.sample (referencia)."
   ]
  },
  {
   "cell_type": "code",
   "execution_count": 55,
   "metadata": {},
   "outputs": [
    {
     "name": "stdout",
     "output_type": "stream",
     "text": [
      "[38, 12, 39, 37, 63, 30, 82, 85, 53, 91, 76, 65, 100, 50, 75, 15, 52, 35, 41, 25, 34, 47, 93, 86, 19, 31, 32, 40, 13, 7, 43, 21, 58, 45, 46, 60, 0, 1, 14, 17, 20, 49, 70, 29, 99, 48, 92, 36, 81, 87, 74, 10, 16, 62, 42, 67, 77, 51, 54, 69, 89, 3, 24, 90, 73, 64, 66, 59, 8, 71, 2, 18, 94, 80, 27, 55, 44, 5, 57, 33] 80\n"
     ]
    }
   ],
   "source": [
    "sample_list_1 = rd.sample(range(101),80)\n",
    "print(sample_list_1 , len(sample_list_1))\n"
   ]
  },
  {
   "cell_type": "markdown",
   "metadata": {},
   "source": [
    "Convierte sample_list_1 en un conjunto llamado set1. Imprime la longitud del conjunto. ¿Su longitud sigue siendo 80?"
   ]
  },
  {
   "cell_type": "code",
   "execution_count": 54,
   "metadata": {},
   "outputs": [
    {
     "name": "stdout",
     "output_type": "stream",
     "text": [
      "el conjunto es : {0, 1, 2, 3, 4, 5, 6, 7, 8, 10, 11, 12, 14, 16, 17, 19, 20, 22, 23, 24, 25, 26, 27, 28, 29, 30, 32, 33, 34, 35, 37, 38, 39, 40, 41, 45, 46, 47, 49, 51, 52, 53, 54, 55, 56, 57, 58, 60, 62, 63, 64, 65, 66, 67, 68, 72, 73, 74, 75, 76, 78, 79, 80, 82, 83, 84, 85, 86, 87, 88, 90, 91, 92, 93, 94, 95, 96, 97, 99, 100} \n",
      " y su longitud es 80\n"
     ]
    }
   ],
   "source": [
    "conjuntoSample = set(sample_list_1)\n",
    "print(f\"el conjunto es : {conjuntoSample} \\n y su longitud es {len(conjuntoSample)}\")"
   ]
  },
  {
   "cell_type": "markdown",
   "metadata": {},
   "source": [
    "Crea otra lista llamada sample_list_2 con 80 valores aleatorios.\n",
    "Requisitos:\n",
    "\n",
    "Cada valor es un entero entre 0 y 100.\n",
    "Los valores en la lista no tienen que ser únicos.\n",
    "Sugerencia: Usa un bucle FOR."
   ]
  },
  {
   "cell_type": "code",
   "execution_count": null,
   "metadata": {},
   "outputs": [],
   "source": [
    "sample_list_2 = []"
   ]
  }
 ],
 "metadata": {
  "kernelspec": {
   "display_name": "base",
   "language": "python",
   "name": "python3"
  },
  "language_info": {
   "codemirror_mode": {
    "name": "ipython",
    "version": 3
   },
   "file_extension": ".py",
   "mimetype": "text/x-python",
   "name": "python",
   "nbconvert_exporter": "python",
   "pygments_lexer": "ipython3",
   "version": "3.11.7"
  }
 },
 "nbformat": 4,
 "nbformat_minor": 2
}
