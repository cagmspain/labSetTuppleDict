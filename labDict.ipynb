{
 "cells": [
  {
   "cell_type": "markdown",
   "metadata": {},
   "source": [
    "Desafío 1: Tuplas\n",
    "¿Sabías que puedes crear tuplas con solo un elemento?\n",
    "En la celda de abajo, define una variable tup con un único elemento \"I\"."
   ]
  },
  {
   "cell_type": "code",
   "execution_count": 80,
   "metadata": {},
   "outputs": [],
   "source": [
    "tup = tuple(\"I\")\n"
   ]
  },
  {
   "cell_type": "markdown",
   "metadata": {},
   "source": [
    "Imprime el tipo de tup.\n",
    "Asegúrate de que su tipo sea correcto (es decir, tuple en lugar de str)."
   ]
  },
  {
   "cell_type": "code",
   "execution_count": 81,
   "metadata": {},
   "outputs": [
    {
     "data": {
      "text/plain": [
       "tuple"
      ]
     },
     "execution_count": 81,
     "metadata": {},
     "output_type": "execute_result"
    }
   ],
   "source": [
    "type(tup)"
   ]
  },
  {
   "cell_type": "markdown",
   "metadata": {},
   "source": [
    "Ahora intenta agregar los siguientes elementos a tup.\n",
    "¿Puedes hacerlo? Explica.\n",
    "\n",
    "\"r\", \"o\", \"n\", \"h\", \"a\", \"c\", \"k',"
   ]
  },
  {
   "cell_type": "code",
   "execution_count": 82,
   "metadata": {},
   "outputs": [],
   "source": [
    "#tup = tup + (\"r\", \"o\", \"n\", \"h\", \"a\", \"c\", \"k',)\n",
    "#no es posible agregarlos a la tupla formato no adecuasdo ni uniforme \n"
   ]
  },
  {
   "cell_type": "markdown",
   "metadata": {},
   "source": [
    "¿Qué tal si reasignas un nuevo valor a una tupla existente?\n",
    "Reasigna los siguientes elementos a tup. ¿Puedes hacerlo? Explica.\n",
    "\n",
    "\"I\", \"r\", \"o\", \"n\", \"h\", \"a\", \"c\", \"k\""
   ]
  },
  {
   "cell_type": "code",
   "execution_count": 83,
   "metadata": {},
   "outputs": [
    {
     "name": "stdout",
     "output_type": "stream",
     "text": [
      "('I', 'I', 'r', 'o', 'n', 'h', 'a', 'c', 'k')\n"
     ]
    }
   ],
   "source": [
    "tup = tup + (\"I\", \"r\", \"o\", \"n\", \"h\", \"a\", \"c\", \"k\")\n",
    "print(tup)\n",
    "# si es posible formato correcto "
   ]
  },
  {
   "cell_type": "markdown",
   "metadata": {},
   "source": [
    "Divide tup en tup1 y tup2 con 4 elementos en cada una.\n",
    "tup1 debe ser (\"I\", \"r\", \"o\", \"n\") y tup2 debe ser (\"h\", \"a\", \"c\", \"k\").\n",
    "\n",
    "Sugerencia: usa números de índice positivos para la asignación de tup1 y números de índice negativos para la asignación de tup2. Los números de índice positivos cuentan desde el principio, mientras que los números de índice negativos cuentan desde el final de la secuencia.\n",
    "\n",
    "También imprime tup1 y tup2."
   ]
  },
  {
   "cell_type": "code",
   "execution_count": 84,
   "metadata": {},
   "outputs": [
    {
     "name": "stdout",
     "output_type": "stream",
     "text": [
      "('I', 'I', 'r', 'o') ('h', 'a', 'c', 'k')\n"
     ]
    }
   ],
   "source": [
    "tup1= tup[:4]\n",
    "tup2=tup[-4:]\n",
    "\n",
    "print(tup1 , tup2)"
   ]
  },
  {
   "cell_type": "markdown",
   "metadata": {},
   "source": [
    "Suma tup1 y tup2 en tup3 usando el operador +.\n",
    "Luego imprime tup3 y verifica si tup3 es igual a tup."
   ]
  },
  {
   "cell_type": "code",
   "execution_count": 85,
   "metadata": {},
   "outputs": [
    {
     "name": "stdout",
     "output_type": "stream",
     "text": [
      "('I', 'I', 'r', 'o', 'h', 'a', 'c', 'k') <class 'tuple'>\n"
     ]
    }
   ],
   "source": [
    "tup3 = tup1+tup2\n",
    "print(tup3, type(tup3))"
   ]
  },
  {
   "cell_type": "markdown",
   "metadata": {},
   "source": [
    "Cuenta el número de elementos en tup1 y tup2. Luego suma los dos conteos y verifica si la suma es igual al número de elementos en tup3."
   ]
  },
  {
   "cell_type": "code",
   "execution_count": 86,
   "metadata": {},
   "outputs": [
    {
     "name": "stdout",
     "output_type": "stream",
     "text": [
      "el njumero de elementos en las tuplas es tup1: 4 , tup2: 4 y la longitud de tup 3 debe se igual a : tup2+tup3= 8\n"
     ]
    }
   ],
   "source": [
    "print(f\"el njumero de elementos en las tuplas es tup1: {len(tup1)} , tup2: {len(tup2)} y la longitud de tup 3 debe se igual a : tup2+tup3= {len(tup1)+len(tup2)}\")"
   ]
  },
  {
   "cell_type": "markdown",
   "metadata": {},
   "source": [
    "¿Cuál es el número de índice de \"h\" en tup3?"
   ]
  },
  {
   "cell_type": "code",
   "execution_count": 87,
   "metadata": {},
   "outputs": [
    {
     "name": "stdout",
     "output_type": "stream",
     "text": [
      "('I', 'I', 'r', 'o', 'h', 'a', 'c', 'k')\n",
      "el indice de h es : 4\n"
     ]
    }
   ],
   "source": [
    "print(tup3)\n",
    "for i in range(len(tup3)):\n",
    "    x=tup3[i]\n",
    "    if x==\"h\":\n",
    "        print(f\"el indice de h es : {i}\")\n",
    "        break\n",
    "    else: pass\n"
   ]
  },
  {
   "cell_type": "markdown",
   "metadata": {},
   "source": [
    "Ahora, usa un bucle FOR para verificar si cada letra en la siguiente lista está presente en tup3:\n",
    "letters = [\"a\", \"b\", \"c\", \"d\", \"e\"]\n",
    "Para cada letra que verifiques, imprime True si está presente en tup3, de lo contrario imprime False.\n",
    "\n",
    "Sugerencia: solo necesitas hacer un bucle con letters. No necesitas hacer un bucle con tup3 porque hay un operador de Python in que puedes usar. Consulta la referencia."
   ]
  },
  {
   "cell_type": "code",
   "execution_count": 88,
   "metadata": {},
   "outputs": [
    {
     "name": "stdout",
     "output_type": "stream",
     "text": [
      "la letra I NO está en la lista : False\n",
      "la letra I NO está en la lista : False\n",
      "la letra r NO está en la lista : False\n",
      "la letra o NO está en la lista : False\n",
      "la letra h NO está en la lista : False\n",
      "la letra a está en la lista : True\n",
      "la letra c está en la lista : True\n",
      "la letra k NO está en la lista : False\n"
     ]
    }
   ],
   "source": [
    "letters = [\"a\", \"b\", \"c\", \"d\", \"e\"]\n",
    "for letter in tup3:\n",
    "    if letter.lower() in letters:\n",
    "        print(f\"la letra {letter} está en la lista : {True}\")\n",
    "    else : print(f\"la letra {letter} NO está en la lista : {False}\")"
   ]
  },
  {
   "cell_type": "markdown",
   "metadata": {},
   "source": [
    "¿Cuántas veces aparece cada letra de letters en tup3?\n",
    "Imprime el número de ocurrencias de cada letra."
   ]
  },
  {
   "cell_type": "code",
   "execution_count": 89,
   "metadata": {},
   "outputs": [
    {
     "name": "stdout",
     "output_type": "stream",
     "text": [
      "la letra I NO está en la tupla3 : False\n",
      "la letra I NO está en la tupla3 : False\n",
      "la letra r NO está en la tupla3 : False\n",
      "la letra o NO está en la tupla3 : False\n",
      "la letra h NO está en la tupla3 : False\n",
      "la letra k NO está en la tupla3 : False\n",
      "a: 1 \n",
      " b: 0 \n",
      " c: 1 \n",
      " d: 0 \n",
      " e: 0 \n",
      " ('I', 'I', 'r', 'o', 'h', 'a', 'c', 'k')\n"
     ]
    }
   ],
   "source": [
    "a,b,c,d,e=0,0,0,0,0\n",
    "for letter in tup3:\n",
    "    \n",
    "    if letter.lower()== \"a\" :\n",
    "            a+=1\n",
    "    elif letter.lower()== \"b\":\n",
    "            b+=1\n",
    "    elif letter.lower()== \"c\":\n",
    "            c+=1\n",
    "    elif letter.lower()== \"d\":\n",
    "            d+=1\n",
    "    elif letter.lower()== \"e\":\n",
    "            e+=1\n",
    "    else :print(f\"la letra {letter} NO está en la tupla3 : {False}\")\n",
    "    \n",
    "print(f\"a: {a} \\n b: {b} \\n c: {c} \\n d: {d} \\n e: {e} \\n {tup3}\")"
   ]
  },
  {
   "cell_type": "markdown",
   "metadata": {},
   "source": [
    "Desafío 2: Conjuntos\n",
    "Hay mucho que aprender sobre los Conjuntos en Python y la información presentada en la lección es limitada debido a su longitud. Para aprender a fondo sobre los Conjuntos en Python, te recomendamos encarecidamente que revises el tutorial de W3Schools sobre Ejemplos y Métodos de Conjuntos en Python antes de trabajar en este laboratorio. Algunas preguntas difíciles de este laboratorio tienen sus soluciones en el tutorial de W3Schools.\n",
    "\n",
    "Primero, importa la biblioteca random de Python."
   ]
  },
  {
   "cell_type": "code",
   "execution_count": 90,
   "metadata": {},
   "outputs": [],
   "source": [
    "import random as rd \n"
   ]
  },
  {
   "cell_type": "markdown",
   "metadata": {},
   "source": [
    "En la celda de abajo, crea una lista llamada sample_list_1 con 80 valores aleatorios.\n",
    "Requisitos:\n",
    "\n",
    "Cada valor es un entero entre 0 y 100.\n",
    "Cada valor en la lista es único.\n",
    "Imprime sample_list_1 para revisar sus valores.\n",
    "\n",
    "Sugerencia: usa random.sample (referencia)."
   ]
  },
  {
   "cell_type": "code",
   "execution_count": 91,
   "metadata": {},
   "outputs": [
    {
     "name": "stdout",
     "output_type": "stream",
     "text": [
      "[16, 71, 75, 43, 98, 2, 21, 63, 9, 18, 35, 78, 46, 97, 24, 85, 55, 72, 30, 28, 82, 80, 0, 83, 90, 92, 94, 48, 38, 49, 15, 23, 68, 19, 77, 56, 47, 53, 58, 69, 50, 29, 31, 40, 51, 74, 84, 67, 57, 65, 87, 37, 60, 39, 22, 1, 13, 95, 11, 52, 42, 34, 41, 64, 26, 89, 66, 14, 8, 36, 33, 62, 86, 25, 79, 100, 27, 4, 7, 12] 80\n"
     ]
    }
   ],
   "source": [
    "sample_list_1 = rd.sample(range(101),80)\n",
    "print(sample_list_1 , len(sample_list_1))\n"
   ]
  },
  {
   "cell_type": "markdown",
   "metadata": {},
   "source": [
    "Convierte sample_list_1 en un conjunto llamado set1. Imprime la longitud del conjunto. ¿Su longitud sigue siendo 80?"
   ]
  },
  {
   "cell_type": "code",
   "execution_count": 92,
   "metadata": {},
   "outputs": [
    {
     "name": "stdout",
     "output_type": "stream",
     "text": [
      "el conjunto es : {0, 1, 2, 4, 7, 8, 9, 11, 12, 13, 14, 15, 16, 18, 19, 21, 22, 23, 24, 25, 26, 27, 28, 29, 30, 31, 33, 34, 35, 36, 37, 38, 39, 40, 41, 42, 43, 46, 47, 48, 49, 50, 51, 52, 53, 55, 56, 57, 58, 60, 62, 63, 64, 65, 66, 67, 68, 69, 71, 72, 74, 75, 77, 78, 79, 80, 82, 83, 84, 85, 86, 87, 89, 90, 92, 94, 95, 97, 98, 100} \n",
      " y su longitud es 80\n"
     ]
    }
   ],
   "source": [
    "set1 = set(sample_list_1)\n",
    "print(f\"el conjunto es : {set1} \\n y su longitud es {len(set1)}\")"
   ]
  },
  {
   "cell_type": "markdown",
   "metadata": {},
   "source": [
    "Crea otra lista llamada sample_list_2 con 80 valores aleatorios.\n",
    "Requisitos:\n",
    "\n",
    "Cada valor es un entero entre 0 y 100.\n",
    "Los valores en la lista no tienen que ser únicos.\n",
    "Sugerencia: Usa un bucle FOR."
   ]
  },
  {
   "cell_type": "code",
   "execution_count": 93,
   "metadata": {},
   "outputs": [
    {
     "name": "stdout",
     "output_type": "stream",
     "text": [
      "[1, 30, 31, 59, 33, 65, 51, 28, 42, 55, 96, 6, 89, 17, 44, 7, 75, 90, 71, 60, 35, 47, 79, 55, 43, 74, 36, 20, 74, 71, 12, 83, 57, 24, 12, 36, 79, 20, 68, 78, 28, 84, 31, 49, 57, 72, 3, 70, 32, 72, 34, 73, 1, 92, 7, 43, 17, 12, 66, 26, 100, 58, 71, 53, 2, 83, 85, 26, 67, 19, 84, 87, 34, 55, 10, 26, 4, 9, 100, 32] 80\n"
     ]
    }
   ],
   "source": [
    "sample_list_2 = []\n",
    "for i in range(80):\n",
    "    sample_list_2.append(rd.randint(0,100))\n",
    "print(sample_list_2, len(sample_list_2))"
   ]
  },
  {
   "cell_type": "markdown",
   "metadata": {},
   "source": [
    "Convierte sample_list_2 en un conjunto llamado set2. Imprime la longitud del conjunto. ¿Su longitud sigue siendo 80?"
   ]
  },
  {
   "cell_type": "code",
   "execution_count": 94,
   "metadata": {},
   "outputs": [
    {
     "name": "stdout",
     "output_type": "stream",
     "text": [
      "55\n"
     ]
    }
   ],
   "source": [
    "set2= set(sample_list_2)\n",
    "print(len(set2))\n",
    "#no tiene la misma lomngitud , se eliminan valores repetidos"
   ]
  },
  {
   "cell_type": "markdown",
   "metadata": {},
   "source": [
    "Identifica los elementos presentes en set1 pero no en set2. Asigna los elementos a un nuevo conjunto llamado set3."
   ]
  },
  {
   "cell_type": "code",
   "execution_count": 103,
   "metadata": {},
   "outputs": [
    {
     "name": "stdout",
     "output_type": "stream",
     "text": [
      "{0, 8, 11, 13, 14, 15, 16, 18, 21, 22, 23, 25, 27, 29, 37, 38, 39, 40, 41, 46, 48, 50, 52, 56, 62, 63, 64, 69, 77, 80, 82, 86, 94, 95, 97, 98}\n"
     ]
    }
   ],
   "source": [
    "set3= set1-set2\n",
    "print(set3)"
   ]
  },
  {
   "cell_type": "markdown",
   "metadata": {},
   "source": [
    "Identifica los elementos presentes en set2 pero no en set1. Asigna los elementos a un nuevo conjunto llamado set4."
   ]
  },
  {
   "cell_type": "code",
   "execution_count": 96,
   "metadata": {},
   "outputs": [
    {
     "name": "stdout",
     "output_type": "stream",
     "text": [
      "{32, 96, 3, 6, 70, 73, 10, 44, 17, 20, 59}\n"
     ]
    }
   ],
   "source": [
    "set4=set2-set1\n",
    "print(set4)"
   ]
  },
  {
   "cell_type": "markdown",
   "metadata": {},
   "source": [
    "Ahora identifica los elementos compartidos entre set1 y set2. Asigna los elementos a un nuevo conjunto llamado set5."
   ]
  },
  {
   "cell_type": "code",
   "execution_count": 97,
   "metadata": {},
   "outputs": [
    {
     "name": "stdout",
     "output_type": "stream",
     "text": [
      "{1, 2, 4, 7, 9, 12, 19, 24, 26, 28, 30, 31, 33, 34, 35, 36, 42, 43, 47, 49, 51, 53, 55, 57, 58, 60, 65, 66, 67, 68, 71, 72, 74, 75, 78, 79, 83, 84, 85, 87, 89, 90, 92, 100}\n"
     ]
    }
   ],
   "source": [
    "set5=set1 & set2\n",
    "print(set5)"
   ]
  },
  {
   "cell_type": "markdown",
   "metadata": {},
   "source": [
    "¿Cuál es la relación entre los siguientes valores?\n",
    "len(set1)\n",
    "len(set2)\n",
    "len(set3)\n",
    "len(set4)\n",
    "len(set5)\n",
    "Usa una fórmula matemática para representar esa relación. Prueba tu fórmula con código Python."
   ]
  },
  {
   "cell_type": "code",
   "execution_count": 98,
   "metadata": {},
   "outputs": [
    {
     "name": "stdout",
     "output_type": "stream",
     "text": [
      "80 55 36 11 44\n"
     ]
    }
   ],
   "source": [
    "print(len(set1),len(set2),len(set3),len(set4),len(set5))\n",
    "#la longitud de set1 = 80 con valores unicos \n",
    "#set2 es un conjunto de valores aleatorios eliminando sus repetidos con una litud de 58\n",
    "# set 3 son los valores de set1 que no estan presentes en set2\n",
    "#set 4 son los valores de set2 que no estan en set 1\n",
    "# set 5 son los elementos que comparten set 1 y set2 "
   ]
  },
  {
   "cell_type": "code",
   "execution_count": 99,
   "metadata": {},
   "outputs": [],
   "source": [
    "#set 3 y set 5 serán iguales al set1 , "
   ]
  },
  {
   "cell_type": "markdown",
   "metadata": {},
   "source": [
    "Crea un conjunto vacío llamado set6."
   ]
  },
  {
   "cell_type": "code",
   "execution_count": 108,
   "metadata": {},
   "outputs": [],
   "source": [
    "set6= set()"
   ]
  },
  {
   "cell_type": "markdown",
   "metadata": {},
   "source": [
    "Añade set3 y set5 a set6 usando el método update de los Conjuntos de Python."
   ]
  },
  {
   "cell_type": "code",
   "execution_count": 112,
   "metadata": {},
   "outputs": [
    {
     "name": "stdout",
     "output_type": "stream",
     "text": [
      "{0, 1, 2, 4, 7, 8, 9, 11, 12, 13, 14, 15, 16, 18, 19, 21, 22, 23, 24, 25, 26, 27, 28, 29, 30, 31, 33, 34, 35, 36, 37, 38, 39, 40, 41, 42, 43, 46, 47, 48, 49, 50, 51, 52, 53, 55, 56, 57, 58, 60, 62, 63, 64, 65, 66, 67, 68, 69, 71, 72, 74, 75, 77, 78, 79, 80, 82, 83, 84, 85, 86, 87, 89, 90, 92, 94, 95, 97, 98, 100}\n"
     ]
    }
   ],
   "source": [
    "\n",
    "set6.update(set3)\n",
    "set6.update(set5)\n",
    "print(set6)\n"
   ]
  },
  {
   "cell_type": "markdown",
   "metadata": {},
   "source": [
    "Verifica si set1 y set6 son iguales."
   ]
  },
  {
   "cell_type": "code",
   "execution_count": 113,
   "metadata": {},
   "outputs": [
    {
     "name": "stdout",
     "output_type": "stream",
     "text": [
      "set6 y set1 son iguales\n"
     ]
    }
   ],
   "source": [
    "if set6 == set1 :\n",
    "    print(\"set6 y set1 son iguales\")\n",
    "else: print(\"no son iguales\")"
   ]
  },
  {
   "cell_type": "markdown",
   "metadata": {},
   "source": [
    "Comprueba si set1 contiene a set2 utilizando el método issubset de los Conjuntos de Python. Luego verifica si set1 contiene a set3."
   ]
  },
  {
   "cell_type": "code",
   "execution_count": 116,
   "metadata": {},
   "outputs": [
    {
     "name": "stdout",
     "output_type": "stream",
     "text": [
      " es set2 un subset de set1? : respuesta: False\n"
     ]
    }
   ],
   "source": [
    "x=set2.issubset(set1)\n",
    "print(f\" es set2 un subset de set1? : respuesta: {x}\")"
   ]
  },
  {
   "cell_type": "markdown",
   "metadata": {},
   "source": [
    "Utilizando el método union de los Conjuntos de Python, agrega set3, set4 y set5. Luego agrega set1 y set2.\n",
    "Verifica si los valores agregados son iguales."
   ]
  },
  {
   "cell_type": "code",
   "execution_count": 118,
   "metadata": {},
   "outputs": [
    {
     "name": "stdout",
     "output_type": "stream",
     "text": [
      "los conjuntos son iguales\n"
     ]
    }
   ],
   "source": [
    "union1=set()\n",
    "union2=set()\n",
    "union1.union(set3,set4,set5)\n",
    "union2.union(set1,set2)\n",
    "if union1==union2:\n",
    "    print(\"los conjuntos son iguales\")\n",
    "else: print(\"no son iguales\")"
   ]
  },
  {
   "cell_type": "markdown",
   "metadata": {},
   "source": [
    "Utilizando el método pop, elimina el primer elemento de set1."
   ]
  },
  {
   "cell_type": "code",
   "execution_count": 120,
   "metadata": {},
   "outputs": [
    {
     "name": "stdout",
     "output_type": "stream",
     "text": [
      "{2, 4, 7, 8, 9, 11, 12, 13, 14, 15, 16, 18, 19, 21, 22, 23, 24, 25, 26, 27, 28, 29, 30, 31, 33, 34, 35, 36, 37, 38, 39, 40, 41, 42, 43, 46, 47, 48, 49, 50, 51, 52, 53, 55, 56, 57, 58, 60, 62, 63, 64, 65, 66, 67, 68, 69, 71, 72, 74, 75, 77, 78, 79, 80, 82, 83, 84, 85, 86, 87, 89, 90, 92, 94, 95, 97, 98, 100} 78\n"
     ]
    }
   ],
   "source": [
    "set1.pop()\n",
    "print(set1, len(set1))\n"
   ]
  },
  {
   "cell_type": "markdown",
   "metadata": {},
   "source": [
    "Elimina cada elemento en la siguiente lista de set1 si están presentes en el conjunto. Imprime los elementos restantes."
   ]
  },
  {
   "cell_type": "code",
   "execution_count": 122,
   "metadata": {},
   "outputs": [
    {
     "name": "stdout",
     "output_type": "stream",
     "text": [
      "{2, 4, 7, 8, 12, 13, 14, 15, 16, 18, 22, 23, 24, 25, 26, 27, 28, 30, 33, 34, 35, 36, 37, 38, 40, 42, 43, 46, 47, 48, 50, 52, 53, 55, 56, 57, 58, 60, 62, 63, 64, 65, 66, 67, 68, 72, 74, 75, 77, 78, 80, 82, 83, 84, 85, 86, 87, 90, 92, 94, 95, 97, 98, 100}\n"
     ]
    }
   ],
   "source": [
    "list_to_remove = [1, 9, 11, 19, 21, 29, 31, 39, 41, 49, 51, 59, 61, 69, 71, 79, 81, 89, 91, 99]\n",
    "\n",
    "for num in list_to_remove:\n",
    "    set1.discard(num)\n",
    "print(set1)"
   ]
  }
 ],
 "metadata": {
  "kernelspec": {
   "display_name": "base",
   "language": "python",
   "name": "python3"
  },
  "language_info": {
   "codemirror_mode": {
    "name": "ipython",
    "version": 3
   },
   "file_extension": ".py",
   "mimetype": "text/x-python",
   "name": "python",
   "nbconvert_exporter": "python",
   "pygments_lexer": "ipython3",
   "version": "3.11.7"
  }
 },
 "nbformat": 4,
 "nbformat_minor": 2
}
